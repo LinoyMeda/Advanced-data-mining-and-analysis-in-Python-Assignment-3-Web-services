{
 "cells": [
  {
   "cell_type": "markdown",
   "id": "522ad6de-61ee-4721-87e6-f90dcb7b0fe4",
   "metadata": {},
   "source": [
    "## Assignment 3 – Web service\n",
    "\n",
    "\n",
    "### Linoy Medalsy\n",
    "#### 206073124"
   ]
  },
  {
   "cell_type": "code",
   "execution_count": 1,
   "id": "d2e7fac8-6c5f-433e-bafd-03f25579c92b",
   "metadata": {},
   "outputs": [],
   "source": [
    "#! pip install requests\n",
    "import requests\n",
    "import json\n",
    "import pandas as pd\n",
    "\n"
   ]
  },
  {
   "cell_type": "code",
   "execution_count": 2,
   "id": "d041a433-3f2f-4787-99b0-a04050d1d216",
   "metadata": {},
   "outputs": [],
   "source": [
    "#Defind some details.\n",
    "api_key = ''\n",
    "\n",
    "#destinations text file\n",
    "dest_file = \"C:/Users/linoy/OneDrive/שולחן העבודה/לימודים/תואר/שנה ג/סמסטר ב/כרייה וניתוח נתונים מתקדם בפייתון/קודים/מטלות/מטלה 3/dests.txt\"\n"
   ]
  },
  {
   "cell_type": "code",
   "execution_count": 3,
   "id": "c320574f-f9bf-48cd-9be5-aa1d9a9c05e7",
   "metadata": {},
   "outputs": [],
   "source": [
    "#create the destinations list\n",
    "\n",
    "file = open(dest_file, 'r')\n",
    "file_read = file.read()\n",
    "destinations = file_read.split(\"\\n\")"
   ]
  },
  {
   "cell_type": "code",
   "execution_count": 4,
   "id": "b2317f2f-5516-4ba5-9825-e75336dcc176",
   "metadata": {},
   "outputs": [
    {
     "data": {
      "text/plain": [
       "['Istanbul', 'Amsterdam', 'Valletta', 'Basel', 'Doha']"
      ]
     },
     "execution_count": 4,
     "metadata": {},
     "output_type": "execute_result"
    }
   ],
   "source": [
    "destinations"
   ]
  },
  {
   "cell_type": "code",
   "execution_count": 5,
   "id": "22373cc6-b844-45f2-b96e-0e1a60a7885e",
   "metadata": {},
   "outputs": [],
   "source": [
    "df = pd.DataFrame(columns=['Target', 'Distance_km', 'Duration(hour+minutes)', 'Longitude', 'Latitude'])"
   ]
  },
  {
   "cell_type": "code",
   "execution_count": 6,
   "id": "f46d1836-c608-4ed3-b668-b1f15e8617aa",
   "metadata": {},
   "outputs": [],
   "source": [
    "#Definf function that would convert second to hours and minutes for the Duration(hour+minutes) column.\n",
    "def sec_to_hours(seconds):\n",
    "    hours=str(seconds//3600)\n",
    "    minutes=str((seconds%3600)//60)\n",
    "    time = \"{} hours {} mins \".format(hours, minutes)\n",
    "    return time"
   ]
  },
  {
   "cell_type": "code",
   "execution_count": 7,
   "id": "fcff50b3-9301-4127-a631-1b950cd92bdd",
   "metadata": {},
   "outputs": [],
   "source": [
    "#retrieve the information from google services and create the dataframe.\n",
    "for city in destinations:\n",
    "    dis_mat_url = \"https://maps.googleapis.com/maps/api/distancematrix/json?origins=Tel+Aviv&destinations=%s&key=%s\" % (city,api_key)\n",
    "    dist_response = requests.get(dis_mat_url).json()\n",
    "    distance = (dist_response['rows'][0]['elements'][0]['distance']['text']).replace(' km', '')\n",
    "    seconds = dist_response['rows'][0]['elements'][0]['duration']['value']\n",
    "    duration = sec_to_hours(seconds)\n",
    "    \n",
    "    geo_url = \"https://maps.googleapis.com/maps/api/geocode/json?address=%s&key=%s\" % (city,api_key)\n",
    "    geo_response = requests.get(geo_url).json()\n",
    "    longitude = geo_response['results'][0]['geometry']['location']['lng']\n",
    "    latitude = geo_response['results'][0]['geometry']['location']['lat']\n",
    "\n",
    "    #add the values of each city to the dataframe i created.\n",
    "    new_row = {'Target': city, 'Distance_km': distance, 'Duration(hour+minutes)': duration, 'Longitude': longitude, 'Latitude': latitude}\n",
    "    df = pd.concat([df,pd.DataFrame([new_row])], ignore_index=True)"
   ]
  },
  {
   "cell_type": "code",
   "execution_count": 8,
   "id": "1d0257ed-7ed7-4e02-9ac6-30553aba79f3",
   "metadata": {},
   "outputs": [
    {
     "data": {
      "text/html": [
       "<div>\n",
       "<style scoped>\n",
       "    .dataframe tbody tr th:only-of-type {\n",
       "        vertical-align: middle;\n",
       "    }\n",
       "\n",
       "    .dataframe tbody tr th {\n",
       "        vertical-align: top;\n",
       "    }\n",
       "\n",
       "    .dataframe thead th {\n",
       "        text-align: right;\n",
       "    }\n",
       "</style>\n",
       "<table border=\"1\" class=\"dataframe\">\n",
       "  <thead>\n",
       "    <tr style=\"text-align: right;\">\n",
       "      <th></th>\n",
       "      <th>Target</th>\n",
       "      <th>Distance_km</th>\n",
       "      <th>Duration(hour+minutes)</th>\n",
       "      <th>Longitude</th>\n",
       "      <th>Latitude</th>\n",
       "    </tr>\n",
       "  </thead>\n",
       "  <tbody>\n",
       "    <tr>\n",
       "      <th>0</th>\n",
       "      <td>Istanbul</td>\n",
       "      <td>1,815</td>\n",
       "      <td>21 hours 2 mins</td>\n",
       "      <td>28.978359</td>\n",
       "      <td>41.008238</td>\n",
       "    </tr>\n",
       "    <tr>\n",
       "      <th>1</th>\n",
       "      <td>Amsterdam</td>\n",
       "      <td>4,533</td>\n",
       "      <td>48 hours 3 mins</td>\n",
       "      <td>4.904139</td>\n",
       "      <td>52.367573</td>\n",
       "    </tr>\n",
       "    <tr>\n",
       "      <th>2</th>\n",
       "      <td>Valletta</td>\n",
       "      <td>3,793</td>\n",
       "      <td>50 hours 50 mins</td>\n",
       "      <td>14.514100</td>\n",
       "      <td>35.899237</td>\n",
       "    </tr>\n",
       "    <tr>\n",
       "      <th>3</th>\n",
       "      <td>Basel</td>\n",
       "      <td>4,093</td>\n",
       "      <td>44 hours 2 mins</td>\n",
       "      <td>7.588576</td>\n",
       "      <td>47.559599</td>\n",
       "    </tr>\n",
       "    <tr>\n",
       "      <th>4</th>\n",
       "      <td>Doha</td>\n",
       "      <td>2,164</td>\n",
       "      <td>22 hours 38 mins</td>\n",
       "      <td>51.531040</td>\n",
       "      <td>25.285447</td>\n",
       "    </tr>\n",
       "  </tbody>\n",
       "</table>\n",
       "</div>"
      ],
      "text/plain": [
       "      Target Distance_km Duration(hour+minutes)  Longitude   Latitude\n",
       "0   Istanbul       1,815       21 hours 2 mins   28.978359  41.008238\n",
       "1  Amsterdam       4,533       48 hours 3 mins    4.904139  52.367573\n",
       "2   Valletta       3,793      50 hours 50 mins   14.514100  35.899237\n",
       "3      Basel       4,093       44 hours 2 mins    7.588576  47.559599\n",
       "4       Doha       2,164      22 hours 38 mins   51.531040  25.285447"
      ]
     },
     "execution_count": 8,
     "metadata": {},
     "output_type": "execute_result"
    }
   ],
   "source": [
    "df"
   ]
  },
  {
   "cell_type": "code",
   "execution_count": 9,
   "id": "cb6e9480-8600-46b5-ac51-6b770bb0f5e3",
   "metadata": {},
   "outputs": [
    {
     "data": {
      "text/html": [
       "<div>\n",
       "<style scoped>\n",
       "    .dataframe tbody tr th:only-of-type {\n",
       "        vertical-align: middle;\n",
       "    }\n",
       "\n",
       "    .dataframe tbody tr th {\n",
       "        vertical-align: top;\n",
       "    }\n",
       "\n",
       "    .dataframe thead th {\n",
       "        text-align: right;\n",
       "    }\n",
       "</style>\n",
       "<table border=\"1\" class=\"dataframe\">\n",
       "  <thead>\n",
       "    <tr style=\"text-align: right;\">\n",
       "      <th></th>\n",
       "      <th>Target</th>\n",
       "      <th>Distance_km</th>\n",
       "      <th>Duration(hour+minutes)</th>\n",
       "      <th>Longitude</th>\n",
       "      <th>Latitude</th>\n",
       "    </tr>\n",
       "  </thead>\n",
       "  <tbody>\n",
       "    <tr>\n",
       "      <th>0</th>\n",
       "      <td>Amsterdam</td>\n",
       "      <td>4,533</td>\n",
       "      <td>48 hours 3 mins</td>\n",
       "      <td>4.904139</td>\n",
       "      <td>52.367573</td>\n",
       "    </tr>\n",
       "    <tr>\n",
       "      <th>1</th>\n",
       "      <td>Basel</td>\n",
       "      <td>4,093</td>\n",
       "      <td>44 hours 2 mins</td>\n",
       "      <td>7.588576</td>\n",
       "      <td>47.559599</td>\n",
       "    </tr>\n",
       "    <tr>\n",
       "      <th>2</th>\n",
       "      <td>Valletta</td>\n",
       "      <td>3,793</td>\n",
       "      <td>50 hours 50 mins</td>\n",
       "      <td>14.514100</td>\n",
       "      <td>35.899237</td>\n",
       "    </tr>\n",
       "  </tbody>\n",
       "</table>\n",
       "</div>"
      ],
      "text/plain": [
       "      Target Distance_km Duration(hour+minutes)  Longitude   Latitude\n",
       "0  Amsterdam       4,533       48 hours 3 mins    4.904139  52.367573\n",
       "1      Basel       4,093       44 hours 2 mins    7.588576  47.559599\n",
       "2   Valletta       3,793      50 hours 50 mins   14.514100  35.899237"
      ]
     },
     "execution_count": 9,
     "metadata": {},
     "output_type": "execute_result"
    }
   ],
   "source": [
    "#Finding the 3 cities furthest from Tel Aviv by sorting the df by Distance_km column.\n",
    "sorted_df = df.sort_values('Distance_km',ascending=False).reset_index(drop=True)\n",
    "furthest_cities = sorted_df.loc[:2]\n",
    "furthest_cities"
   ]
  },
  {
   "cell_type": "code",
   "execution_count": 10,
   "id": "13fd2fef-239c-453b-b8cf-758306fc8b46",
   "metadata": {},
   "outputs": [
    {
     "data": {
      "text/html": [
       "<div>\n",
       "<style scoped>\n",
       "    .dataframe tbody tr th:only-of-type {\n",
       "        vertical-align: middle;\n",
       "    }\n",
       "\n",
       "    .dataframe tbody tr th {\n",
       "        vertical-align: top;\n",
       "    }\n",
       "\n",
       "    .dataframe thead th {\n",
       "        text-align: right;\n",
       "    }\n",
       "</style>\n",
       "<table border=\"1\" class=\"dataframe\">\n",
       "  <thead>\n",
       "    <tr style=\"text-align: right;\">\n",
       "      <th></th>\n",
       "      <th>Target</th>\n",
       "    </tr>\n",
       "  </thead>\n",
       "  <tbody>\n",
       "    <tr>\n",
       "      <th>0</th>\n",
       "      <td>Amsterdam</td>\n",
       "    </tr>\n",
       "    <tr>\n",
       "      <th>1</th>\n",
       "      <td>Basel</td>\n",
       "    </tr>\n",
       "    <tr>\n",
       "      <th>2</th>\n",
       "      <td>Valletta</td>\n",
       "    </tr>\n",
       "  </tbody>\n",
       "</table>\n",
       "</div>"
      ],
      "text/plain": [
       "      Target\n",
       "0  Amsterdam\n",
       "1      Basel\n",
       "2   Valletta"
      ]
     },
     "execution_count": 10,
     "metadata": {},
     "output_type": "execute_result"
    }
   ],
   "source": [
    "sorted_df.loc[:2,['Target']]"
   ]
  }
 ],
 "metadata": {
  "kernelspec": {
   "display_name": "Python 3 (ipykernel)",
   "language": "python",
   "name": "python3"
  },
  "language_info": {
   "codemirror_mode": {
    "name": "ipython",
    "version": 3
   },
   "file_extension": ".py",
   "mimetype": "text/x-python",
   "name": "python",
   "nbconvert_exporter": "python",
   "pygments_lexer": "ipython3",
   "version": "3.8.16"
  }
 },
 "nbformat": 4,
 "nbformat_minor": 5
}
